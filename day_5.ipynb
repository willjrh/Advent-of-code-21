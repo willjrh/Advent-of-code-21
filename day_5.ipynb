{
 "cells": [
  {
   "cell_type": "code",
   "execution_count": 35,
   "metadata": {},
   "outputs": [],
   "source": [
    "import os\n",
    "import numpy as np\n",
    "import re\n",
    "from collections import Counter\n",
    "import plotly.graph_objects as go"
   ]
  },
  {
   "cell_type": "markdown",
   "metadata": {},
   "source": [
    "**First read in the data**"
   ]
  },
  {
   "cell_type": "code",
   "execution_count": 36,
   "metadata": {},
   "outputs": [],
   "source": [
    "input_file = os.path.join(\"inputs\", \"day_5.txt\")\n",
    "with open(input_file) as f:\n",
    "        data_in = f.readlines()"
   ]
  },
  {
   "cell_type": "code",
   "execution_count": 37,
   "metadata": {},
   "outputs": [],
   "source": [
    "coords_start = []\n",
    "coords_end = []\n",
    "\n",
    "for d in data_in:\n",
    "    input_split = re.split(r'(\\s->\\s)',d.strip(\"\\n\"))\n",
    "    coords_start.append(input_split[0].split(\",\"))\n",
    "    coords_end.append(input_split[2].split(\",\"))\n",
    "\n",
    "coords_start = np.asarray(coords_start, dtype=int)\n",
    "coords_end = np.asarray(coords_end, dtype=int)"
   ]
  },
  {
   "cell_type": "markdown",
   "metadata": {},
   "source": [
    "**Now we have our input data, we can work on solving part 1**\n",
    "Keep in mind it looks likely we will also needed coords where either a x or y coord do not necessarily match."
   ]
  },
  {
   "cell_type": "code",
   "execution_count": 38,
   "metadata": {},
   "outputs": [
    {
     "data": {
      "text/plain": [
       "array([831, 695])"
      ]
     },
     "execution_count": 38,
     "metadata": {},
     "output_type": "execute_result"
    }
   ],
   "source": [
    "list(zip(coords_start, coords_end))[1][0]"
   ]
  },
  {
   "cell_type": "code",
   "execution_count": 39,
   "metadata": {},
   "outputs": [],
   "source": [
    "vent_lines_x = np.array([])\n",
    "vent_lines_y = np.array([])\n",
    "\n",
    "for start, end in zip(coords_start, coords_end):\n",
    "    # only operate on pairs which share a coord\n",
    "    if start[0] == end[0]:\n",
    "        # now we know x_coords match\n",
    "        new_y = np.array(\n",
    "            range(min(start[1], end[1]), max(start[1], end[1]) + 1)\n",
    "        )\n",
    "        vent_lines_y = np.append(vent_lines_y, new_y)\n",
    "        vent_lines_x = np.append(vent_lines_x, start[0]*np.ones(len(new_y)))\n",
    "    elif start[1] == end[1]:\n",
    "        # now we know y_coords match\n",
    "        new_x = np.array(\n",
    "            range(min(start[0], end[0]), max(start[0], end[0]) + 1)\n",
    "        )\n",
    "        vent_lines_x = np.append(vent_lines_x, new_x)\n",
    "        vent_lines_y = np.append(vent_lines_y, start[1]*np.ones(len(new_x)))\n",
    "    elif abs(end[1] - start[1]) == abs(end[0] - start[0]):\n",
    "        # now we have a 45 deg diagonal line\n",
    "        delta = np.array(range(abs(end[1] - start[1])+1))\n",
    "        direction = (end - start)/abs(end[1] - start[1])\n",
    "        \n",
    "        new_x = start[0] + delta*direction[0]\n",
    "        new_y = start[1] + delta*direction[1]\n",
    "        vent_lines_x = np.append(vent_lines_x, new_x)\n",
    "        vent_lines_y = np.append(vent_lines_y, new_y)\n",
    "    else:\n",
    "        # not interested  \n",
    "        pass"
   ]
  },
  {
   "cell_type": "code",
   "execution_count": 40,
   "metadata": {},
   "outputs": [
    {
     "name": "stdout",
     "output_type": "stream",
     "text": [
      "22083\n"
     ]
    }
   ],
   "source": [
    "all_coords = list(zip(vent_lines_x, vent_lines_y))\n",
    "coord_dict = dict(Counter(all_coords))\n",
    "total = 0\n",
    "\n",
    "for _, value in coord_dict.items():\n",
    "    if value > 1:\n",
    "        total += 1\n",
    "\n",
    "print(total)"
   ]
  }
 ],
 "metadata": {
  "interpreter": {
   "hash": "19f3e2e18b12c9f2bd4c9bf0aff602de662b73875167435433fc99170727cfff"
  },
  "kernelspec": {
   "display_name": "Python 3.10.0 64-bit ('aoc-21': conda)",
   "language": "python",
   "name": "python3"
  },
  "language_info": {
   "codemirror_mode": {
    "name": "ipython",
    "version": 3
   },
   "file_extension": ".py",
   "mimetype": "text/x-python",
   "name": "python",
   "nbconvert_exporter": "python",
   "pygments_lexer": "ipython3",
   "version": "3.10.0"
  },
  "orig_nbformat": 4
 },
 "nbformat": 4,
 "nbformat_minor": 2
}
