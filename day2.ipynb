{
 "cells": [
  {
   "cell_type": "markdown",
   "metadata": {},
   "source": [
    "# Advent of Code 2021 - Day 2"
   ]
  },
  {
   "cell_type": "code",
   "execution_count": 16,
   "metadata": {},
   "outputs": [],
   "source": [
    "import os\n",
    "import numpy as np\n",
    "import pandas as pd"
   ]
  },
  {
   "cell_type": "markdown",
   "metadata": {},
   "source": [
    "Load in the data"
   ]
  },
  {
   "cell_type": "code",
   "execution_count": 27,
   "metadata": {},
   "outputs": [],
   "source": [
    "day_2_in = os.path.join(\"inputs\", \"day_2_1.txt\")\n",
    "df = pd.read_csv(\n",
    "    day_2_in, \n",
    "    sep=\"\\s+\",\n",
    "    header=None, \n",
    "    names=[\"direction\", \"size\"])\n"
   ]
  },
  {
   "cell_type": "markdown",
   "metadata": {},
   "source": [
    "# Part 1"
   ]
  },
  {
   "cell_type": "code",
   "execution_count": 32,
   "metadata": {},
   "outputs": [],
   "source": [
    "forward_steps = df[df[\"direction\"] == \"forward\"][\"size\"].sum()\n",
    "down_steps =  df[df[\"direction\"] == \"down\"][\"size\"].sum()\n",
    "up_steps = df[df[\"direction\"] == \"up\"][\"size\"].sum()"
   ]
  },
  {
   "cell_type": "code",
   "execution_count": 34,
   "metadata": {},
   "outputs": [
    {
     "data": {
      "text/plain": [
       "2120749"
      ]
     },
     "execution_count": 34,
     "metadata": {},
     "output_type": "execute_result"
    }
   ],
   "source": [
    "forward_steps * (down_steps - up_steps)"
   ]
  },
  {
   "cell_type": "markdown",
   "metadata": {},
   "source": [
    "# Part 2"
   ]
  },
  {
   "cell_type": "code",
   "execution_count": 41,
   "metadata": {},
   "outputs": [],
   "source": [
    "direction = df[\"direction\"]\n",
    "step_size  = df[\"size\"].to_numpy()"
   ]
  },
  {
   "cell_type": "code",
   "execution_count": 45,
   "metadata": {},
   "outputs": [
    {
     "data": {
      "text/plain": [
       "2138382217"
      ]
     },
     "execution_count": 45,
     "metadata": {},
     "output_type": "execute_result"
    }
   ],
   "source": [
    "# init aim & positions\n",
    "aim = 0\n",
    "hoz = 0\n",
    "vert = 0\n",
    "\n",
    "for idx, step in enumerate(direction):\n",
    "    if step != \"forward\":\n",
    "        if step == \"down\":\n",
    "            aim += step_size[idx]\n",
    "        else:\n",
    "            aim -= step_size[idx]\n",
    "    else:\n",
    "        hoz += step_size[idx]\n",
    "        vert += step_size[idx]*aim\n",
    "\n",
    "hoz*vert"
   ]
  }
 ],
 "metadata": {
  "interpreter": {
   "hash": "19f3e2e18b12c9f2bd4c9bf0aff602de662b73875167435433fc99170727cfff"
  },
  "kernelspec": {
   "display_name": "Python 3.10.0 64-bit ('aoc-21': conda)",
   "language": "python",
   "name": "python3"
  },
  "language_info": {
   "codemirror_mode": {
    "name": "ipython",
    "version": 3
   },
   "file_extension": ".py",
   "mimetype": "text/x-python",
   "name": "python",
   "nbconvert_exporter": "python",
   "pygments_lexer": "ipython3",
   "version": "3.10.0"
  },
  "orig_nbformat": 4
 },
 "nbformat": 4,
 "nbformat_minor": 2
}
